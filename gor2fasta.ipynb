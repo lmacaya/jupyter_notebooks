{
 "cells": [
  {
   "cell_type": "code",
   "execution_count": 2,
   "metadata": {
    "collapsed": false
   },
   "outputs": [
    {
     "name": "stdout",
     "output_type": "stream",
     "text": [
      "/home/lmacaya/Escritorio/ssGR/ssGR_Modeller\n"
     ]
    }
   ],
   "source": [
    "cd /home/lmacaya/Escritorio/ssGR/ssGR_Modeller/\n",
    "\n",
    "name = 'ssGR'"
   ]
  },
  {
   "cell_type": "code",
   "execution_count": 4,
   "metadata": {
    "collapsed": false
   },
   "outputs": [],
   "source": [
    "GOR4_str = ''\n",
    "f = open('%s.GOR4.mpsa' % name, 'r')\n",
    "lines = f.readlines()\n",
    "\n",
    "for i in range(4, len(lines)):\n",
    "    GOR4_str +=lines[i][0]\n",
    "\n",
    "pred_file = '>GOR4\\n'+ GOR4_str\n",
    "\n",
    "wf = open('%s_GOR4.fasta' % name, 'w')\n",
    "wf.write(pred_file)\n",
    "wf.close()"
   ]
  }
 ],
 "metadata": {
  "kernelspec": {
   "display_name": "Python 2",
   "language": "python",
   "name": "python2"
  },
  "language_info": {
   "codemirror_mode": {
    "name": "ipython",
    "version": 2
   },
   "file_extension": ".py",
   "mimetype": "text/x-python",
   "name": "python",
   "nbconvert_exporter": "python",
   "pygments_lexer": "ipython2",
   "version": "2.7.12"
  }
 },
 "nbformat": 4,
 "nbformat_minor": 0
}
