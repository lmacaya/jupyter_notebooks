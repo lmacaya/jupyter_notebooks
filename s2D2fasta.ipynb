{
 "cells": [
  {
   "cell_type": "code",
   "execution_count": 1,
   "metadata": {
    "collapsed": false
   },
   "outputs": [
    {
     "name": "stdout",
     "output_type": "stream",
     "text": [
      "/home/lmacaya/Escritorio/ssGR/ssGR_Modeller\n"
     ]
    }
   ],
   "source": [
    "cd ~/Escritorio/ssGR/ssGR_Modeller/"
   ]
  },
  {
   "cell_type": "code",
   "execution_count": 4,
   "metadata": {
    "collapsed": true
   },
   "outputs": [],
   "source": [
    "name = 'ssGR_s2D'"
   ]
  },
  {
   "cell_type": "code",
   "execution_count": 14,
   "metadata": {
    "collapsed": false
   },
   "outputs": [],
   "source": [
    "s2D_str = ''\n",
    "f = open('%s.txt' % name, 'r')\n",
    "lines = f.readlines()\n",
    "\n",
    "for i in range(2, len(lines)):\n",
    "    s2D_str +=lines[i][-2]\n",
    "\n",
    "pred_file = '>s2D\\n'+ s2D_str\n",
    "\n",
    "wf = open('%s.fasta' % name, 'w')\n",
    "wf.write(pred_file)\n",
    "wf.close()"
   ]
  }
 ],
 "metadata": {
  "kernelspec": {
   "display_name": "Python 2",
   "language": "python",
   "name": "python2"
  },
  "language_info": {
   "codemirror_mode": {
    "name": "ipython",
    "version": 2
   },
   "file_extension": ".py",
   "mimetype": "text/x-python",
   "name": "python",
   "nbconvert_exporter": "python",
   "pygments_lexer": "ipython2",
   "version": "2.7.12"
  }
 },
 "nbformat": 4,
 "nbformat_minor": 0
}
