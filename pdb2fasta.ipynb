{
 "cells": [
  {
   "cell_type": "code",
   "execution_count": 1,
   "metadata": {
    "collapsed": false
   },
   "outputs": [],
   "source": [
    "import prody as pd"
   ]
  },
  {
   "cell_type": "code",
   "execution_count": 59,
   "metadata": {
    "collapsed": false
   },
   "outputs": [
    {
     "name": "stdout",
     "output_type": "stream",
     "text": [
      "/home/lmacaya/Escritorio/tnfr/structures/tnfr1\n"
     ]
    }
   ],
   "source": [
    "cd ~/Escritorio/tnfr/structures/tnfr1/"
   ]
  },
  {
   "cell_type": "code",
   "execution_count": 81,
   "metadata": {
    "collapsed": false
   },
   "outputs": [
    {
     "name": "stderr",
     "output_type": "stream",
     "text": [
      "@> 1099 atoms and 1 coordinate set(s) were parsed in 0.01s.\n"
     ]
    }
   ],
   "source": [
    "pdbfile = '1tnr.pdb'\n",
    "chain = \"R\"\n",
    "pdb = pd.parsePDB(pdbfile, chain=chain)"
   ]
  },
  {
   "cell_type": "code",
   "execution_count": 82,
   "metadata": {
    "collapsed": false
   },
   "outputs": [
    {
     "name": "stdout",
     "output_type": "stream",
     "text": [
      "CPQGKYIHPQNNSICCTKCHKGTYLYNDCPGPGQDTDCRECESGSFTASENHLRHCLSCSKCRKEMGQVEISSCTVDRDTVCGCRKNQYRHYWSENLFQCFNCSLCLNGTVHLSCQEKQNTVCTCHAGFFLRENECVSC\n",
      "139\n"
     ]
    }
   ],
   "source": [
    "dict3to1 = {'ALA':'A','CYS':'C','ASP':'D','GLU':'E','PHE':'F','GLY':'G','HIS':'H','ILE':'I',\n",
    "            'LYS':'K','LEU':'L','MET':'M','ASN':'N','PRO':'P','GLN':'Q','ARG':'R','SER':'S',\n",
    "            'THR':'T','VAL':'V','TRP':'W','TYR':'Y'}\n",
    "alpha_carbons = pdb.select('calpha')\n",
    "Resnames = alpha_carbons.getResnames()\n",
    "sequence = \"\"\n",
    "for res in Resnames:\n",
    "    sequence += dict3to1[res]\n",
    "print sequence\n",
    "print len(sequence)"
   ]
  },
  {
   "cell_type": "code",
   "execution_count": 83,
   "metadata": {
    "collapsed": true
   },
   "outputs": [],
   "source": [
    "with open('%s_%s.fasta' % (pdbfile[:-4], chain), 'w') as f:\n",
    "    lines = '>%s_%s\\n%s\\n' % (pdbfile[:-4], chain, sequence) \n",
    "    f.writelines(lines)\n",
    "    f.close()"
   ]
  },
  {
   "cell_type": "code",
   "execution_count": 68,
   "metadata": {
    "collapsed": false
   },
   "outputs": [
    {
     "name": "stdout",
     "output_type": "stream",
     "text": [
      ">1ext_A\r\n",
      "SVCPQGKYIHPQNNSICCTKCHKGTYLYNDCPGPGQDTDCRECESGSFTASENHLRHCLSCSKCRKEMGQVEISSCTVDRDTVCGCRKNQYRHYWSENLFQCFNCSLCLNGTVHLSCQEKQNTVCTCHAGFFLRENECVSCSNCKKSLECTKLCLPQIEN\r\n"
     ]
    }
   ],
   "source": [
    "cat 1ext_A.fasta"
   ]
  },
  {
   "cell_type": "code",
   "execution_count": null,
   "metadata": {
    "collapsed": true
   },
   "outputs": [],
   "source": []
  }
 ],
 "metadata": {
  "kernelspec": {
   "display_name": "Python 2",
   "language": "python",
   "name": "python2"
  },
  "language_info": {
   "codemirror_mode": {
    "name": "ipython",
    "version": 2
   },
   "file_extension": ".py",
   "mimetype": "text/x-python",
   "name": "python",
   "nbconvert_exporter": "python",
   "pygments_lexer": "ipython2",
   "version": "2.7.12"
  }
 },
 "nbformat": 4,
 "nbformat_minor": 0
}
