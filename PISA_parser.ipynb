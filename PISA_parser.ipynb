{
 "cells": [
  {
   "cell_type": "code",
   "execution_count": 2,
   "metadata": {
    "collapsed": false
   },
   "outputs": [
    {
     "name": "stdout",
     "output_type": "stream",
     "text": [
      "/Users/lmacaya/Downloads\n"
     ]
    }
   ],
   "source": [
    "%cd ~/Downloads/"
   ]
  },
  {
   "cell_type": "markdown",
   "metadata": {},
   "source": [
    "### Interface per residue"
   ]
  },
  {
   "cell_type": "code",
   "execution_count": 30,
   "metadata": {
    "collapsed": false
   },
   "outputs": [],
   "source": [
    "import xml.etree.ElementTree as ET\n",
    "tree = ET.parse('residue0.xml')\n",
    "root = tree.getroot()"
   ]
  },
  {
   "cell_type": "code",
   "execution_count": 83,
   "metadata": {
    "collapsed": false
   },
   "outputs": [],
   "source": [
    "residue_list = []\n",
    "solv_list = []\n",
    "HSDC_list = []\n",
    "SAS_list = []\n",
    "BSA_list = []    "
   ]
  },
  {
   "cell_type": "code",
   "execution_count": 84,
   "metadata": {
    "collapsed": false
   },
   "outputs": [],
   "source": [
    "for residue in root.findall('./RESIDUE1/RESIDUE'):\n",
    "    \n",
    "    res = residue.find('STRUCTURE').text\n",
    "    solv = residue.find('SOLVATIONENERGY').text\n",
    "    #HSDC = residue.find('HSDC').text  \n",
    "    SAS = residue.find('SOLVENTACCESSIBLEAREA').text\n",
    "    BSA = residue.find('BURIEDSURFACEAREA').text  \n",
    "    \n",
    "    residue_list.append(res[1:10])\n",
    "    solv_list.append(float(solv)) \n",
    "    #HSDC_list.append(HSDC)\n",
    "    SAS_list.append(float(SAS))\n",
    "    BSA_list.append(float(SAS))"
   ]
  },
  {
   "cell_type": "markdown",
   "metadata": {},
   "source": [
    "### Interface table"
   ]
  },
  {
   "cell_type": "code",
   "execution_count": 101,
   "metadata": {
    "collapsed": false
   },
   "outputs": [],
   "source": [
    "tree = ET.parse('interfacetable.xml')\n",
    "root = tree.getroot()"
   ]
  },
  {
   "cell_type": "code",
   "execution_count": 107,
   "metadata": {
    "collapsed": true
   },
   "outputs": [],
   "source": [
    "res_struct1_list = []\n",
    "res_struct2_list = []\n",
    "surf_struc1_list = []\n",
    "surf_struc2_list = []\n",
    "int_area_list = []\n",
    "delta_G_list = []\n",
    "delta_G_P_list = []\n",
    "NHB_list = []\n",
    "NSB_list = []\n",
    "NDB_list = []\n",
    "int_css = []"
   ]
  },
  {
   "cell_type": "code",
   "execution_count": 106,
   "metadata": {
    "collapsed": false
   },
   "outputs": [
    {
     "name": "stdout",
     "output_type": "stream",
     "text": [
      "91\n",
      "23\n",
      "16\n",
      "12\n",
      "8\n",
      "1\n",
      "1\n",
      "1\n",
      "1\n",
      "7\n",
      "1\n",
      "1\n",
      "1\n",
      "1\n",
      "1\n",
      "1\n",
      "1\n",
      "1\n",
      "2\n"
     ]
    }
   ],
   "source": [
    "for structure in root.findall('./INTERFACEROW'):\n",
    "    \n",
    "    res_struct1 = structure.find('INTERFACENRESIDUES1').text\n",
    "    res_struct2 = structure.find('INTERFACENRESIDUES2').text\n",
    "    surf_struct1 =  structure.find('TOTALSURFACEAREA1').text\n",
    "    surf_struct2 =  structure.find('TOTALSURFACEAREA2').text\n",
    "    \n",
    "    \n",
    "    res_struct1_list.append(res_struct1)\n",
    "    res_struct2_list.append(res_struct2)\n",
    "    surf_struc1_list.append(surf_struct1)\n",
    "    surf_struc2_list.append(surf_struct2)\n",
    "    "
   ]
  }
 ],
 "metadata": {
  "kernelspec": {
   "display_name": "Python 2",
   "language": "python",
   "name": "python2"
  },
  "language_info": {
   "codemirror_mode": {
    "name": "ipython",
    "version": 2
   },
   "file_extension": ".py",
   "mimetype": "text/x-python",
   "name": "python",
   "nbconvert_exporter": "python",
   "pygments_lexer": "ipython2",
   "version": "2.7.12"
  }
 },
 "nbformat": 4,
 "nbformat_minor": 0
}
