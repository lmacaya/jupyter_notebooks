{
 "cells": [
  {
   "cell_type": "code",
   "execution_count": 1,
   "metadata": {
    "collapsed": false
   },
   "outputs": [
    {
     "name": "stdout",
     "output_type": "stream",
     "text": [
      "/home/lmacaya/Escritorio/pdb_frank\n"
     ]
    }
   ],
   "source": [
    "cd /home/lmacaya/Escritorio/pdb_frank"
   ]
  },
  {
   "cell_type": "code",
   "execution_count": 128,
   "metadata": {
    "collapsed": true
   },
   "outputs": [],
   "source": [
    "pdb_file = open(\"invasine_model_5.pdb\", \"r\")\n",
    "lines = pdb_file.readlines()"
   ]
  },
  {
   "cell_type": "code",
   "execution_count": 129,
   "metadata": {
    "collapsed": false
   },
   "outputs": [],
   "source": [
    "new_pdb_file = open(\"invasine_model_5_final.pdb\", \"w+\")\n",
    "for line in lines:\n",
    "    new_line = line.replace(\"'a0\", \"\") # remove character\n",
    "    new_line_2 = new_line.replace(\"\\\\\", \"\") # remove character\n",
    "    pdb_line = new_line_2.rsplit(\" \") # split lines\n",
    "    if pdb_line[0] == \"ATOM\":\n",
    "        try:\n",
    "            # canonical pdb line\n",
    "            pdb_format = \"{:6s}{:5d} {:^4s} {:3s} {:1s}{:4d}    {:8.3f}{:8.3f}{:8.3f}{:6.2f} {:6.2f}          {:>2s}\\n\".format(pdb_line[0], int(pdb_line[1]), pdb_line[2], pdb_line[3], pdb_line[4], int(pdb_line[5]), float(pdb_line[6]), float(pdb_line[7]), float(pdb_line[8]), float(pdb_line[9]), float(pdb_line[10]), pdb_line[11])\n",
    "        except:\n",
    "            # modified pdb line\n",
    "            pdb_format = \"{:6s}{:5d} {:^4s} {:3s} {:1s}{:4d}    {:8.3f}{:8.3f}{:8.3f}{:6.2f} {:6.2f}          {:>2s}\\n\".format(pdb_line[0], int(pdb_line[1]), pdb_line[2], pdb_line[3], pdb_line[4], int(pdb_line[5]), float(pdb_line[6]), float(pdb_line[7]), float(pdb_line[8]), float(pdb_line[9][:4]), float(pdb_line[9][4:]), pdb_line[10])\n",
    "    #TER line\n",
    "    elif pdb_line[0] == \"TER\":\n",
    "        pdb_format = \"{:6s}{:5d}\\n\".format(pdb_line[0], int(pdb_line[1]))\n",
    "    else:\n",
    "        pdb_format = \"{:6s}\".format(pdb_line[0])\n",
    "    new_pdb_file.write(pdb_format)\n",
    "    \n",
    "new_pdb_file.close()"
   ]
  },
  {
   "cell_type": "code",
   "execution_count": null,
   "metadata": {
    "collapsed": true
   },
   "outputs": [],
   "source": []
  }
 ],
 "metadata": {
  "kernelspec": {
   "display_name": "Python 3",
   "language": "python",
   "name": "python3"
  },
  "language_info": {
   "codemirror_mode": {
    "name": "ipython",
    "version": 3
   },
   "file_extension": ".py",
   "mimetype": "text/x-python",
   "name": "python",
   "nbconvert_exporter": "python",
   "pygments_lexer": "ipython3",
   "version": "3.4.3"
  }
 },
 "nbformat": 4,
 "nbformat_minor": 0
}
