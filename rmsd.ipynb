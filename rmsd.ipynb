{
 "cells": [
  {
   "cell_type": "code",
   "execution_count": 1,
   "metadata": {
    "collapsed": false
   },
   "outputs": [],
   "source": [
    "#Load reference structure\n",
    "structure1 = '/home/lmacaya/Escritorio/hGR/hGR_MD_2/hGR_popcwi_eq.pdb' #Modificar ruta de archivo"
   ]
  },
  {
   "cell_type": "code",
   "execution_count": 2,
   "metadata": {
    "collapsed": false
   },
   "outputs": [],
   "source": [
    "#Load trajectory file (.dcd)\n",
    "trj1 = '/media/lmacaya/Elements/hGR_MD_2/run/hGR_popcwi_md_200ns.dcd' #Modifcar ruta de archivo"
   ]
  },
  {
   "cell_type": "code",
   "execution_count": 3,
   "metadata": {
    "collapsed": false
   },
   "outputs": [],
   "source": [
    "class RMSD:\n",
    "    def __init__(self, name):\n",
    "        \"\"\"Get RMSD from trajectory and RMSD plot.\"\"\"\n",
    "        self.name = name\n",
    "    def get_RMSD(self, structure, trj):\n",
    "        \"\"\"Calculate protein C-alpha RMSD.\"\"\"\n",
    "        import pylab\n",
    "        import prody as pd\n",
    "        pylab.ion()\n",
    "        \n",
    "        structure = pd.parsePDB(structure) \n",
    "        trj = pd.parseDCD(trj)\n",
    "        \n",
    "        trj.setAtoms(structure.calpha)\n",
    "        trj.setCoords(structure)\n",
    "        trj.superpose()\n",
    "        \n",
    "        rmsd = trj.getRMSDs()\n",
    "        \n",
    "        return trj, rmsd\n",
    "    \n",
    "    def RMSD_plot(self, ens, rmsd, mds_time):\n",
    "        \"\"\"RMSD plot.\"\"\"\n",
    "        %matplotlib inline\n",
    "        import matplotlib.pyplot as plt\n",
    "        import numpy as np\n",
    "        \n",
    "        fig, axes = plt.subplots()\n",
    "        \n",
    "        time = []\n",
    "        frames = ens.numConfs()\n",
    "        ts = mds_time / frames\n",
    "        \n",
    "        i = 0\n",
    "        \n",
    "        while i <= mds_time:\n",
    "            time.append(i)\n",
    "            i += round(ts, 2) \n",
    "        \n",
    "        axes.plot(time, rmsd, \"r-\", linewidth = 1, alpha = 0.8, label = \"RMSD %s\" % self.name)\n",
    "        axes.set_xlabel(\"$Time\\ (ns)$\")\n",
    "        axes.set_ylabel(\"$RMSD\\ ($\\AA$)$\")\n",
    "        axes.set_title(\"$RMSD\\ %s\\ C-alpha$\" % self.name)\n",
    "        axes.legend(loc=2)\n",
    "        #ax.axvline(x=263,color='k',ls='dashed')\n",
    "        #ax.axvline(x=513,color='k',ls='dashed')\n",
    "        fig.savefig('/home/lmacaya/Escritorio/RMSD_%s.png' % self.name, dpi=1000)\n",
    "        return"
   ]
  },
  {
   "cell_type": "code",
   "execution_count": 4,
   "metadata": {
    "collapsed": false
   },
   "outputs": [],
   "source": [
    "protein = RMSD('hGR')"
   ]
  },
  {
   "cell_type": "code",
   "execution_count": 5,
   "metadata": {
    "collapsed": false
   },
   "outputs": [
    {
     "name": "stderr",
     "output_type": "stream",
     "text": [
      "Vendor:  Continuum Analytics, Inc.\n",
      "Package: mkl\n",
      "Message: trial mode expires in 30 days\n",
      "@> 280072 atoms and 1 coordinate set(s) were parsed in 1.89s.\n",
      "@> DCD file contains 801 coordinate sets for 280072 atoms.\n",
      "@> DCD file was parsed in 25.56 seconds.\n",
      "@> 2567.40 MB parsed at input rate 100.44 MB/s.\n",
      "@> 801 coordinate sets parsed at input rate 31 frame/s.\n",
      "@> Superposition completed in 6.95 seconds.\n"
     ]
    }
   ],
   "source": [
    "prot_rmsd = protein.get_RMSD(structure1, trj1)"
   ]
  },
  {
   "cell_type": "code",
   "execution_count": 6,
   "metadata": {
    "collapsed": false
   },
   "outputs": [
    {
     "data": {
      "image/png": "[encoded data removed]",
      "text/plain": [
       "<matplotlib.figure.Figure at 0x7fbce2fe1a90>"
      ]
     },
     "metadata": {},
     "output_type": "display_data"
    }
   ],
   "source": [
    "numConf, rmsd = prot_rmsd\n",
    "plot = protein.RMSD_plot(numConf, rmsd, 200.0)"
   ]
  },
  {
   "cell_type": "markdown",
   "metadata": {},
   "source": [
    "## Classic RMSD Evaluation"
   ]
  },
  {
   "cell_type": "code",
   "execution_count": null,
   "metadata": {
    "collapsed": true
   },
   "outputs": [],
   "source": [
    "from prody import *\n",
    "from pylab import *\n",
    "ion()"
   ]
  },
  {
   "cell_type": "code",
   "execution_count": null,
   "metadata": {
    "collapsed": true
   },
   "outputs": [],
   "source": [
    "structure = parsePDB('mdm2.pdb')\n",
    "repr(structure)"
   ]
  },
  {
   "cell_type": "code",
   "execution_count": null,
   "metadata": {
    "collapsed": true
   },
   "outputs": [],
   "source": [
    "ensemble = parseDCD('mdm2.dcd')\n",
    "repr(ensemble)"
   ]
  },
  {
   "cell_type": "code",
   "execution_count": null,
   "metadata": {
    "collapsed": true
   },
   "outputs": [],
   "source": [
    "ensemble.setAtoms(structure.calpha)\n",
    "repr(ensemble)"
   ]
  },
  {
   "cell_type": "code",
   "execution_count": null,
   "metadata": {
    "collapsed": true
   },
   "outputs": [],
   "source": [
    "ensemble.superpose()"
   ]
  },
  {
   "cell_type": "code",
   "execution_count": null,
   "metadata": {
    "collapsed": true
   },
   "outputs": [],
   "source": [
    "rmsd = ensemble.getRMSDs()"
   ]
  },
  {
   "cell_type": "code",
   "execution_count": null,
   "metadata": {
    "collapsed": true
   },
   "outputs": [],
   "source": [
    "%matplotlib inline\n",
    "import matplotlib.pyplot as plt\n",
    "import numpy as np\n",
    "\n",
    "fig, axes = plt.subplots()\n",
    "\n",
    "\"\"\"time = []\n",
    "frames = ens.numConfs()\n",
    "ts = mds_time / frames\n",
    "\n",
    "i = 0\n",
    "\n",
    "while i <= mds_time:\n",
    "    time.append(i)\n",
    "    i += round(ts, 2) \n",
    "\"\"\"\n",
    "axes.plot(rmsd, \"r-\", linewidth = 1, alpha = 0.8, label = \"RMSD %s\" % name)\n",
    "axes.set_xlabel(\"$Time\\ (ns)$\")\n",
    "axes.set_ylabel(\"$RMSD\\ ($\\AA$)$\")\n",
    "axes.set_title(\"$RMSD\\ %s\\ C-alpha$\" % name)\n",
    "axes.legend(loc=2)\n",
    "#ax.axvline(x=263,color='k',ls='dashed')\n",
    "#ax.axvline(x=513,color='k',ls='dashed')\n",
    "fig.savefig('/home/lmacaya/Escritorio/RMSD_%s.png' % name, dpi=1000)"
   ]
  }
 ],
 "metadata": {
  "kernelspec": {
   "display_name": "Python 2",
   "language": "python",
   "name": "python2"
  },
  "language_info": {
   "codemirror_mode": {
    "name": "ipython",
    "version": 2
   },
   "file_extension": ".py",
   "mimetype": "text/x-python",
   "name": "python",
   "nbconvert_exporter": "python",
   "pygments_lexer": "ipython2",
   "version": "2.7.12"
  }
 },
 "nbformat": 4,
 "nbformat_minor": 0
}
