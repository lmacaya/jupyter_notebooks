{
 "cells": [
  {
   "cell_type": "code",
   "execution_count": 2,
   "metadata": {
    "collapsed": false
   },
   "outputs": [
    {
     "name": "stdout",
     "output_type": "stream",
     "text": [
      "/home/lmacaya/Escritorio/ssGR/ssGR_Modeller\n"
     ]
    }
   ],
   "source": [
    "cd ~/Escritorio/ssGR/ssGR_Modeller/"
   ]
  },
  {
   "cell_type": "code",
   "execution_count": 1,
   "metadata": {
    "collapsed": true
   },
   "outputs": [],
   "source": [
    "name = 'ssGR_spider2'"
   ]
  },
  {
   "cell_type": "code",
   "execution_count": 10,
   "metadata": {
    "collapsed": false
   },
   "outputs": [
    {
     "name": "stdout",
     "output_type": "stream",
     "text": [
      ">SPIDER2\n",
      "CCCCCCCCCCCCCCCCCCCCCCCCCCCCCCCCCCCCCCCCCHHHHHHHHHHHHHHHHHHHHHHHHHEEEEEECCCCCCHHHHHHHHHHHHHHHHHCCCCHHHHHHHHHCCCCCHHHHHHHHHHHHHHHHHHHHHHHHHHHHHHHEEEHCCHHCCCCCCHHHHHHHHHHHHHHHHHCHHHHHHHHCHECCCCCCCCCCECCCCCCCCCCCCCCECCCCCHHHHHHHHHHHHHHHHHCCHHHHHHHHHHHHHHHHHHHCCCCCCCCCCCHCCCCCCCCHHHHHHHHHHHHHHHCHHHHHHHHHHHHHHCCCCCCHHHHHHHHHHHHHHHHHHHCCCCCHHHHHHCCHHHHHHHHHHCCCCCCCCCCCCCCCCCCCCCCCCCCCCCCCC\n"
     ]
    }
   ],
   "source": [
    "spider2_str = ''\n",
    "f = open('%s.spd3' % name, 'r')\n",
    "lines = f.readlines()\n",
    "\n",
    "for i in range(2, len(lines)):\n",
    "    spider2_line = lines[i]\n",
    "    spider2_temp = spider2_line.split('\\t')\n",
    "    spider2_ss = spider2_temp[2]\n",
    "    spider2_str += spider2_ss\n",
    "\n",
    "pred_file = '>SPIDER2\\n'+ spider2_str\n",
    "\n",
    "print pred_file\n",
    "\n",
    "wf = open('%s.fasta' % name, 'w')\n",
    "wf.write(pred_file)\n",
    "wf.close()"
   ]
  }
 ],
 "metadata": {
  "kernelspec": {
   "display_name": "Python 2",
   "language": "python",
   "name": "python2"
  },
  "language_info": {
   "codemirror_mode": {
    "name": "ipython",
    "version": 2
   },
   "file_extension": ".py",
   "mimetype": "text/x-python",
   "name": "python",
   "nbconvert_exporter": "python",
   "pygments_lexer": "ipython2",
   "version": "2.7.12"
  }
 },
 "nbformat": 4,
 "nbformat_minor": 0
}
