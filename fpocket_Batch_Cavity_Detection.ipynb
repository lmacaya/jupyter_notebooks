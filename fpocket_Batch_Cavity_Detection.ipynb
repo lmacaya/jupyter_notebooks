{
 "cells": [
  {
   "cell_type": "code",
   "execution_count": 7,
   "metadata": {
    "collapsed": false
   },
   "outputs": [
    {
     "name": "stdout",
     "output_type": "stream",
     "text": [
      "/home/lmacaya/Escritorio/tnfr/structures/tnfr2\n"
     ]
    }
   ],
   "source": [
    "cd ~/Escritorio/tnfr/structures/tnfr2"
   ]
  },
  {
   "cell_type": "code",
   "execution_count": 1,
   "metadata": {
    "collapsed": true
   },
   "outputs": [],
   "source": [
    "def fpocket_cavity_search(receptor_pdb):\n",
    "    \n",
    "    import subprocess, shlex\n",
    "\n",
    "    fpocket_bin = [\"/home/lmacaya/fpocket2/bin/fpocket\"]\n",
    "    command_line = \"-f {}\".format(receptor_pdb)\n",
    "    \n",
    "    args = fpocket_bin + shlex.split(command_line)\n",
    "    print(\"Command: {0} {1}\\n\".format(fpocket_bin[0], str(command_line)))\n",
    "    print(subprocess.check_output(args))\n",
    "    return"
   ]
  },
  {
   "cell_type": "code",
   "execution_count": 3,
   "metadata": {
    "collapsed": true
   },
   "outputs": [],
   "source": [
    "import glob"
   ]
  },
  {
   "cell_type": "code",
   "execution_count": 9,
   "metadata": {
    "collapsed": false
   },
   "outputs": [
    {
     "data": {
      "text/plain": [
       "['3alq_V.pdb',\n",
       " '3alq_U.pdb',\n",
       " '3alq_S.pdb',\n",
       " '3alq_W.pdb',\n",
       " '3alq_T.pdb',\n",
       " '3alq_R.pdb']"
      ]
     },
     "execution_count": 9,
     "metadata": {},
     "output_type": "execute_result"
    }
   ],
   "source": [
    "pdb_list = glob.glob(\"*_*.pdb\")\n",
    "pdb_list"
   ]
  },
  {
   "cell_type": "code",
   "execution_count": 10,
   "metadata": {
    "collapsed": false
   },
   "outputs": [
    {
     "name": "stdout",
     "output_type": "stream",
     "text": [
      "Command: /home/lmacaya/fpocket2/bin/fpocket -f 3alq_V.pdb\n",
      "\n",
      "***** POCKET HUNTING BEGINS ***** \n",
      "***** POCKET HUNTING ENDS ***** \n",
      "\n",
      "Command: /home/lmacaya/fpocket2/bin/fpocket -f 3alq_U.pdb\n",
      "\n",
      "***** POCKET HUNTING BEGINS ***** \n",
      "***** POCKET HUNTING ENDS ***** \n",
      "\n",
      "Command: /home/lmacaya/fpocket2/bin/fpocket -f 3alq_S.pdb\n",
      "\n",
      "***** POCKET HUNTING BEGINS ***** \n",
      "***** POCKET HUNTING ENDS ***** \n",
      "\n",
      "Command: /home/lmacaya/fpocket2/bin/fpocket -f 3alq_W.pdb\n",
      "\n",
      "***** POCKET HUNTING BEGINS ***** \n",
      "***** POCKET HUNTING ENDS ***** \n",
      "\n",
      "Command: /home/lmacaya/fpocket2/bin/fpocket -f 3alq_T.pdb\n",
      "\n",
      "***** POCKET HUNTING BEGINS ***** \n",
      "***** POCKET HUNTING ENDS ***** \n",
      "\n",
      "Command: /home/lmacaya/fpocket2/bin/fpocket -f 3alq_R.pdb\n",
      "\n",
      "***** POCKET HUNTING BEGINS ***** \n",
      "***** POCKET HUNTING ENDS ***** \n",
      "\n"
     ]
    }
   ],
   "source": [
    "for pdb in pdb_list:\n",
    "    fpocket_cavity_search(pdb)"
   ]
  },
  {
   "cell_type": "code",
   "execution_count": null,
   "metadata": {
    "collapsed": true
   },
   "outputs": [],
   "source": []
  }
 ],
 "metadata": {
  "kernelspec": {
   "display_name": "Python 2",
   "language": "python",
   "name": "python2"
  },
  "language_info": {
   "codemirror_mode": {
    "name": "ipython",
    "version": 2
   },
   "file_extension": ".py",
   "mimetype": "text/x-python",
   "name": "python",
   "nbconvert_exporter": "python",
   "pygments_lexer": "ipython2",
   "version": "2.7.12"
  }
 },
 "nbformat": 4,
 "nbformat_minor": 0
}
