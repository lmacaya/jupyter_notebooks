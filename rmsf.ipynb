{
 "cells": [
  {
   "cell_type": "code",
   "execution_count": 1,
   "metadata": {
    "collapsed": true
   },
   "outputs": [],
   "source": [
    "import prody as pd"
   ]
  },
  {
   "cell_type": "code",
   "execution_count": 2,
   "metadata": {
    "collapsed": false
   },
   "outputs": [],
   "source": [
    "#Load reference structure\n",
    "structure1 = '/home/lmacaya/Escritorio/g33_Aleikar/g33_NAMD/g33_eq.pdb' #Modificar ruta de archivo"
   ]
  },
  {
   "cell_type": "code",
   "execution_count": 3,
   "metadata": {
    "collapsed": false
   },
   "outputs": [],
   "source": [
    "#Load trajectory file (.dcd)\n",
    "trj1 = '/home/lmacaya/Escritorio/g33_Aleikar/g33_NAMD/g33_wbiones_md.dcd' #Modifcar ruta de archivo\n",
    "trj2 = '/home/lmacaya/Escritorio/g33_Aleikar/g33_NAMD/g33_wbiones_md_1.dcd'\n",
    "trj3 = '/home/lmacaya/Escritorio/g33_Aleikar/g33_NAMD/g33_wbiones_md_2.dcd'"
   ]
  },
  {
   "cell_type": "code",
   "execution_count": 4,
   "metadata": {
    "collapsed": false
   },
   "outputs": [],
   "source": [
    "class RMSF:\n",
    "    def __init__(self, name):\n",
    "        \"\"\"get RMSF from trajectory and RMSF per residue plot\"\"\"\n",
    "        self.name = name\n",
    "    def get_RMSF(self, structure, trj):\n",
    "        import pylab\n",
    "        import prody as pd\n",
    "        pylab.ion()\n",
    "        \n",
    "        structure = pd.parsePDB(structure) \n",
    "        trj = pd.parseDCD(trj)\n",
    "        \n",
    "        trj.setAtoms(structure.calpha)\n",
    "        trj.setCoords(structure)\n",
    "        trj.superpose()\n",
    "        \n",
    "        rmsf = trj.getRMSFs()\n",
    "        \n",
    "        return trj, rmsf\n",
    "    \n",
    "    def RMSF_plot(self, ens, rmsf, mdsTime):\n",
    "        %matplotlib inline\n",
    "        import pylab\n",
    "        import matplotlib.pyplot as plt\n",
    "        import numpy as np\n",
    "        \n",
    "        fig, ax = plt.subplots()\n",
    "        \n",
    "        ax.plot(rmsf, \"b-\", linewidth = 1, alpha = 0.8, label = \"RMSF %s\" % self.name)\n",
    "\n",
    "        ax.set_xlabel(\"Residue number\")\n",
    "        ax.set_ylabel(\"RMSF ($\\AA$)\")\n",
    "        ax.set_title(\"RMSF %s C-alpha\" % self.name)\n",
    "        ax.legend(loc=2)\n",
    "        fig.savefig('/home/lmacaya/Escritorio/RMSF_%s' % self.name, dpi=1000)\n",
    "        return"
   ]
  },
  {
   "cell_type": "code",
   "execution_count": 5,
   "metadata": {
    "collapsed": false
   },
   "outputs": [],
   "source": [
    "protein = RMSF('g33')"
   ]
  },
  {
   "cell_type": "code",
   "execution_count": 7,
   "metadata": {
    "collapsed": false
   },
   "outputs": [
    {
     "name": "stderr",
     "output_type": "stream",
     "text": [
      "@> 92106 atoms and 1 coordinate set(s) were parsed in 0.44s.\n",
      "@> DCD file contains 2000 coordinate sets for 92106 atoms.\n",
      "@> DCD file was parsed in 29.73 seconds.\n",
      "@> 2108.29 MB parsed at input rate 70.91 MB/s.\n",
      "@> 2000 coordinate sets parsed at input rate 67 frame/s.\n",
      "@> Superposition completed in 6.34 seconds.\n"
     ]
    }
   ],
   "source": [
    "rmsf = protein.get_RMSF(structure1, trj1)"
   ]
  },
  {
   "cell_type": "code",
   "execution_count": 10,
   "metadata": {
    "collapsed": false
   },
   "outputs": [
    {
     "data": {
      "image/png": "[encoded data removed]",
      "text/plain": [
       "<matplotlib.figure.Figure at 0x7fc39cedced0>"
      ]
     },
     "metadata": {},
     "output_type": "display_data"
    }
   ],
   "source": [
    "numConf = rmsf[0]\n",
    "rmsf = rmsf[1]\n",
    "\n",
    "plot = protein.RMSF_plot(numConf, rmsf, 200.0)"
   ]
  }
 ],
 "metadata": {
  "kernelspec": {
   "display_name": "Python 2",
   "language": "python",
   "name": "python2"
  },
  "language_info": {
   "codemirror_mode": {
    "name": "ipython",
    "version": 2
   },
   "file_extension": ".py",
   "mimetype": "text/x-python",
   "name": "python",
   "nbconvert_exporter": "python",
   "pygments_lexer": "ipython2",
   "version": "2.7.12"
  }
 },
 "nbformat": 4,
 "nbformat_minor": 0
}
